{
  "nbformat": 4,
  "nbformat_minor": 0,
  "metadata": {
    "colab": {
      "provenance": [],
      "authorship_tag": "ABX9TyPfFY9hTvjV9M+xwonLYAQ1",
      "include_colab_link": true
    },
    "kernelspec": {
      "name": "python3",
      "display_name": "Python 3"
    },
    "language_info": {
      "name": "python"
    }
  },
  "cells": [
    {
      "cell_type": "markdown",
      "metadata": {
        "id": "view-in-github",
        "colab_type": "text"
      },
      "source": [
        "<a href=\"https://colab.research.google.com/github/tehfoxen/hometask/blob/main/Hometask1.ipynb\" target=\"_parent\"><img src=\"https://colab.research.google.com/assets/colab-badge.svg\" alt=\"Open In Colab\"/></a>"
      ]
    },
    {
      "cell_type": "code",
      "execution_count": 3,
      "metadata": {
        "colab": {
          "base_uri": "https://localhost:8080/"
        },
        "id": "NJasXHzsED3n",
        "outputId": "b6c427de-9fd6-4652-bd15-82d00ede8546"
      },
      "outputs": [
        {
          "output_type": "stream",
          "name": "stdout",
          "text": [
            "Введите год: 2020\n",
            "Год високосный.\n"
          ]
        }
      ],
      "source": [
        "year = int(input('Введите год: '))\n",
        "if year % 4 != 0:\n",
        "    print('Год не високосный.')\n",
        "\n",
        "elif year % 100 == 0:\n",
        "    if year % 400 == 0:\n",
        "        print('Год високосный')\n",
        "    else:\n",
        "        print('Год не високосный')\n",
        "else:\n",
        "    print('Год високосный')"
      ]
    },
    {
      "cell_type": "code",
      "source": [],
      "metadata": {
        "id": "9OdTT2FlE2Ov"
      },
      "execution_count": null,
      "outputs": []
    }
  ]
}