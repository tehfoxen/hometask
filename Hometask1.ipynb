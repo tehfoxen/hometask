{
  "nbformat": 4,
  "nbformat_minor": 0,
  "metadata": {
    "colab": {
      "provenance": [],
      "authorship_tag": "ABX9TyOGtATmB06dNqCp3zXEskiR",
      "include_colab_link": true
    },
    "kernelspec": {
      "name": "python3",
      "display_name": "Python 3"
    },
    "language_info": {
      "name": "python"
    }
  },
  "cells": [
    {
      "cell_type": "markdown",
      "metadata": {
        "id": "view-in-github",
        "colab_type": "text"
      },
      "source": [
        "<a href=\"https://colab.research.google.com/github/tehfoxen/hometask/blob/main/Hometask1.ipynb\" target=\"_parent\"><img src=\"https://colab.research.google.com/assets/colab-badge.svg\" alt=\"Open In Colab\"/></a>"
      ]
    },
    {
      "cell_type": "code",
      "execution_count": 5,
      "metadata": {
        "colab": {
          "base_uri": "https://localhost:8080/"
        },
        "id": "NJasXHzsED3n",
        "outputId": "9d7bce13-7eec-410d-f9c8-43141e547880"
      },
      "outputs": [
        {
          "output_type": "stream",
          "name": "stdout",
          "text": [
            "Введите год: 12345\n",
            "Год не високосный.\n"
          ]
        }
      ],
      "source": [
        "# Определяем високосный год #\n",
        "year = int(input('Введите год: '))\n",
        "if year % 4 != 0:\n",
        "    print('Год не високосный')\n",
        "\n",
        "elif year % 100 == 0:\n",
        "    if year % 400 == 0:\n",
        "        print('Год високосный')\n",
        "    else:\n",
        "        print('Год не високосный')\n",
        "else:\n",
        "    print('Год високосный')"
      ]
    },
    {
      "cell_type": "code",
      "source": [
        "# Определяем счастливый билет #\n",
        "a = int(input('Введите номер билета: '))\n",
        "sum_left = 0\n",
        "sum_right = 0\n",
        "for i in range(6):\n",
        "    if i < 3:\n",
        "        sum_right += a // 10**i % 10\n",
        "    else:\n",
        "        sum_left  += a // 10**i % 10\n",
        "if sum_left == sum_right:\n",
        "    print('Счастливые билет')\n",
        "else:\n",
        "    print('Несчастливый билет')"
      ],
      "metadata": {
        "colab": {
          "base_uri": "https://localhost:8080/"
        },
        "id": "9OdTT2FlE2Ov",
        "outputId": "394ea8ea-23a0-473e-f3a4-2441e5799fd8"
      },
      "execution_count": 4,
      "outputs": [
        {
          "output_type": "stream",
          "name": "stdout",
          "text": [
            "Введите номер билета: 222345\n",
            "Несчастливый билет\n"
          ]
        }
      ]
    }
  ]
}