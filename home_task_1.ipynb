{
 "cells": [
  {
   "cell_type": "code",
   "execution_count": 1,
   "id": "4da8016f-729f-4e09-8496-7fb03dfd8fb6",
   "metadata": {},
   "outputs": [
    {
     "name": "stdin",
     "output_type": "stream",
     "text": [
      "Введите год:  2020\n"
     ]
    },
    {
     "name": "stdout",
     "output_type": "stream",
     "text": [
      "Год високосный\n"
     ]
    }
   ],
   "source": [
    "year = int(input('Введите год: '))\n",
    "if year % 4 != 0:\n",
    "    print('Год не високосный.')\n",
    "\n",
    "elif year % 100 == 0:\n",
    "    if year % 400 == 0:\n",
    "        print('Год високосный')\n",
    "    else:\n",
    "        print('Год не високосный')\n",
    "else:\n",
    "    print('Год високосный')\n"
   ]
  }
 ],
 "metadata": {
  "kernelspec": {
   "display_name": "Python 3 (ipykernel)",
   "language": "python",
   "name": "python3"
  },
  "language_info": {
   "codemirror_mode": {
    "name": "ipython",
    "version": 3
   },
   "file_extension": ".py",
   "mimetype": "text/x-python",
   "name": "python",
   "nbconvert_exporter": "python",
   "pygments_lexer": "ipython3",
   "version": "3.11.5"
  }
 },
 "nbformat": 4,
 "nbformat_minor": 5
}
