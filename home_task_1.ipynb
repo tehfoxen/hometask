year = int(input('Введите год: '))
if year % 4 != 0:
    print('Год не високосный.')

elif year % 100 == 0:
    if year % 400 == 0:
        print('Год високосный')
    else:
        print('Год не високосный')
else:
    print('Год високосный')
