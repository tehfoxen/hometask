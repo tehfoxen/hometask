{
 "cells": [
  {
   "cell_type": "code",
   "execution_count": null,
   "id": "b4d6447b-c18f-49a0-889b-de7fb81757c2",
   "metadata": {},
   "outputs": [],
   "source": [
    "year = int(input('Введите год: '))\n",
    "if year % 4 != 0:\n",
    "    print('Год не високосный.')\n",
    "\n",
    "elif year % 100 == 0:\n",
    "    if year % 400 == 0:\n",
    "        print('Год високосный')\n",
    "    else:\n",
    "        print('Год не високосный')\n",
    "else:\n",
    "    print('Год високосный')"
   ]
  },
  {
   "cell_type": "code",
   "execution_count": null,
   "id": "c1752898-63cf-4881-9489-1a5f985ba59d",
   "metadata": {},
   "outputs": [],
   "source": []
  }
 ],
 "metadata": {
  "kernelspec": {
   "display_name": "Python 3 (ipykernel)",
   "language": "python",
   "name": "python3"
  },
  "language_info": {
   "codemirror_mode": {
    "name": "ipython",
    "version": 3
   },
   "file_extension": ".py",
   "mimetype": "text/x-python",
   "name": "python",
   "nbconvert_exporter": "python",
   "pygments_lexer": "ipython3",
   "version": "3.11.5"
  }
 },
 "nbformat": 4,
 "nbformat_minor": 5
}
